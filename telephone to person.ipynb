{
 "cells": [
  {
   "cell_type": "code",
   "execution_count": 1,
   "metadata": {},
   "outputs": [
    {
     "name": "stdout",
     "output_type": "stream",
     "text": [
      "[57029 33575357 '赵军' '身份证' '410303198206081474' '13515605303'\n",
      " 'ueOCeqpaTTkkgXcdVasD' datetime.datetime(2014, 1, 2, 2, 3, 3) '郑超' '备注'\n",
      " '无' datetime.datetime(2019, 6, 5, 6, 59, 27) 82194 '14524760953' '师桂花'\n",
      " '备注' '无' datetime.datetime(1980, 9, 25, 11, 50, 21) 'TELEPHONE_OF_INSURE'\n",
      " 'vkUaNqUbeKEugdNRRixT' 'RlikhTSjJTWqNYYlSJRY']\n"
     ]
    }
   ],
   "source": [
    "\n",
    "from faker import Faker\n",
    "f=Faker(locale='zh_CN')\n",
    "#telephone to person\n",
    "import csv\n",
    "import numpy as np\n",
    "import random\n",
    "list = []\n",
    "for i in range(0,200):\n",
    "       a=(\n",
    "           #entity 1:\n",
    "           #person\n",
    "           f.random_int(min=50001,max=59999),#person ID\n",
    "           f.random_int(min=30000001,max=39999999),#policy NO\n",
    "           f.name(),\n",
    "           '身份证',\n",
    "           f.ssn(),\n",
    "           f.phone_number(),\n",
    "           f.pystr(),#kind\n",
    "           f.date_time(),#ETL_DATE\n",
    "           f.name(),#LAST_MARKER\n",
    "           \"备注\",\n",
    "           '无',\n",
    "           f.date_time(),\n",
    "           \n",
    "           #telephone\n",
    "           f.random_int(min=80001,max=89999),#telephone ID\n",
    "           f.phone_number(),\n",
    "           f.name(),#LAST_MARKER\n",
    "           \"备注\",\n",
    "           '无',\n",
    "           f.date_time(),\n",
    "                                 \n",
    "           #relationships\n",
    "           f.random.choice(['TELEPHONE_OF_INSURE','TELEPHONE_OF_APPLI','TELEPHONE_OF_BUS','TELEPHONE_OF_CHECHKER','TELEPHONE_OF_SUR']),\n",
    "           f.pystr(),\n",
    "           f.pystr(),\n",
    "          \n",
    "         )\n",
    "       list.append(a)\n",
    "b=np.array(list)\n",
    "print(b[0])\n",
    "with open('telephone to person.csv', 'w', encoding='utf-8', newline='') as ff:\n",
    "    writer = csv.writer(ff)\n",
    "    writer.writerows(b)        "
   ]
  },
  {
   "cell_type": "code",
   "execution_count": null,
   "metadata": {
    "collapsed": true
   },
   "outputs": [],
   "source": []
  }
 ],
 "metadata": {
  "kernelspec": {
   "display_name": "Python 3",
   "language": "python",
   "name": "python3"
  },
  "language_info": {
   "codemirror_mode": {
    "name": "ipython",
    "version": 3
   },
   "file_extension": ".py",
   "mimetype": "text/x-python",
   "name": "python",
   "nbconvert_exporter": "python",
   "pygments_lexer": "ipython3",
   "version": "3.6.3"
  }
 },
 "nbformat": 4,
 "nbformat_minor": 2
}
