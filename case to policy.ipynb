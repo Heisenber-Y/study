{
 "cells": [
  {
   "cell_type": "code",
   "execution_count": 1,
   "metadata": {},
   "outputs": [
    {
     "name": "stdout",
     "output_type": "stream",
     "text": [
      "[2692 27168754 datetime.datetime(1993, 9, 10, 18, 57, 47)\n",
      " datetime.datetime(1980, 3, 23, 5, 17, 48)\n",
      " datetime.datetime(2013, 6, 11, 4, 51, 42)\n",
      " datetime.datetime(2013, 3, 7, 14, 59, 9)\n",
      " datetime.datetime(2006, 2, 14, 14, 39, 23) 4860.75 '时空盒数字' 39342232 6\n",
      " '13124694835' '15328038809' datetime.datetime(1975, 5, 1, 10, 15, 47)\n",
      " '云南省秀珍县吉区佛山街l座 858005' '莫玉兰' '备注' '无'\n",
      " datetime.datetime(2006, 6, 6, 4, 59, 48) 32656 33861630 0\n",
      " datetime.datetime(1977, 7, 31, 22, 57, 5)\n",
      " datetime.datetime(2001, 5, 17, 13, 52, 4)\n",
      " datetime.datetime(1982, 4, 27, 6, 33, 30) 9 '意外险' 'IJMqroEjqRfguoJkVEDk'\n",
      " '团体' datetime.datetime(1989, 7, 21, 15, 4, 19) '沈辉' '备注' '无'\n",
      " datetime.datetime(1984, 9, 21, 2, 11, 2) 'COMM_OF_CASE'\n",
      " 'LWDPEENGvOrFwRQXTnfc' 'WkdVbpzQaXYSDLusHjvt']\n"
     ]
    }
   ],
   "source": [
    "\n",
    "from faker import Faker\n",
    "f=Faker(locale='zh_CN')\n",
    "#case to policy\n",
    "import csv\n",
    "import numpy as np\n",
    "import random\n",
    "list = []\n",
    "for i in range(0,200):\n",
    "       a=(\n",
    "           #entity 1:\n",
    "           #case\n",
    "           f.random_int(min=2001,max=2999),#index 15\n",
    "           f.random_int(min=20000001,max=29999999),\n",
    "           f.date_time(),\n",
    "           f.date_time(),\n",
    "           f.date_time(),\n",
    "           f.date_time(),\n",
    "           f.date_time(),\n",
    "           f.pyfloat(left_digits=4,right_digits=2 ,positive=True),\n",
    "           f.company_prefix(),\n",
    "           f.random_int(min=30000001,max=39999999),\n",
    "           f.random_digit(),#0-9的整数\n",
    "           f.phone_number(),\n",
    "           f.phone_number(),\n",
    "           f.date_time(),\n",
    "           f.address(),\n",
    "           f.name(),\n",
    "           \"备注\",\n",
    "           '无',\n",
    "           f.date_time(),\n",
    "           \n",
    "           #entity 2\n",
    "           #policy\n",
    "           f.random_int(min=30001,max=39999),#policy NO ID\n",
    "           f.random_int(min=30000001,max=39999999),#policy NO\n",
    "           f.random_digit(),#0-9的整数\n",
    "           f.date_time(),#startdate\n",
    "           f.date_time(),\n",
    "           f.date_time(),\n",
    "           f.random_digit(),#0-9的整数\n",
    "           f.random.choice(['健康险','意外险','家财险','交强险','信用险','商业险']),\n",
    "           f.pystr(),#kind\n",
    "           f.random.choice(['团体','个人']),\n",
    "           f.date_time(),#ETL_DATE\n",
    "           f.name(),#LAST_MARKER\n",
    "           \"备注\",\n",
    "           '无',\n",
    "           f.date_time(),\n",
    "           \n",
    "           #relationships\n",
    "           f.random.choice(['CTP_OF_CASE','COMM_OF_CASE','ACCIDENT_OF_CASE','HEALTH_OF_CASE','CREDIT_OF_CASE']),\n",
    "           'POLICYNO',\n",
    "           'CLAIMMAIN',\n",
    "         )\n",
    "       list.append(a)\n",
    "b=np.array(list)\n",
    "print(b[0])\n",
    "with open('case to policy.csv', 'w', encoding='utf-8', newline='') as ff:\n",
    "    writer = csv.writer(ff)\n",
    "    writer.writerows(b)        "
   ]
  },
  {
   "cell_type": "code",
   "execution_count": null,
   "metadata": {
    "collapsed": true
   },
   "outputs": [],
   "source": []
  }
 ],
 "metadata": {
  "kernelspec": {
   "display_name": "Python 3",
   "language": "python",
   "name": "python3"
  },
  "language_info": {
   "codemirror_mode": {
    "name": "ipython",
    "version": 3
   },
   "file_extension": ".py",
   "mimetype": "text/x-python",
   "name": "python",
   "nbconvert_exporter": "python",
   "pygments_lexer": "ipython3",
   "version": "3.6.3"
  }
 },
 "nbformat": 4,
 "nbformat_minor": 2
}
