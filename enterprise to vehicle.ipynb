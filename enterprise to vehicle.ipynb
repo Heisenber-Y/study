{
 "cells": [
  {
   "cell_type": "code",
   "execution_count": 2,
   "metadata": {},
   "outputs": [
    {
     "name": "stdout",
     "output_type": "stream",
     "text": [
      "[1457 11808240 '信息有限公司' '精芯' 8844 'irdaVGpqZJCKAXEFkUul' '大' '18510840325'\n",
      " 'XgohrzpdGjSlvtwfULVD' datetime.datetime(2009, 4, 7, 9, 27, 34) '林瑜' '备注'\n",
      " '无' datetime.datetime(1991, 11, 14, 16, 44, 45) 70107 71615336 '刘雪' 'b'\n",
      " '340300196310101352' 'bQyGLAIlbilCHfKpOXKf' 'fWNyYsleApagbxKzMOpd'\n",
      " '鲁J86906' '琼K79365' 'XAsCPRBsaKgWlzHANVbC' 'skztInWPcdqlwAxOjcnZ'\n",
      " datetime.datetime(1983, 7, 7, 4, 31, 43) '戴畅' '备注' '无'\n",
      " datetime.datetime(2001, 5, 1, 6, 58, 54) 'ENTERPRISE_OF_REPAIRFACTORY'\n",
      " 'uCYCMTcSnYmhcgwAVytz' 'trtCYJCsbvhLlrEYTIRS']\n"
     ]
    }
   ],
   "source": [
    "\n",
    "from faker import Faker\n",
    "f=Faker(locale='zh_CN')\n",
    "#enterprise to VEHICLE\n",
    "import csv\n",
    "import numpy as np\n",
    "import random\n",
    "#生成车牌号\n",
    "def chepaihao():\n",
    "  char0='京津沪渝冀豫云辽黑湘皖鲁新苏浙赣鄂桂甘晋蒙陕吉闽赣粤青藏川宁琼'\n",
    "  char1='ABCDEFGHJKLMNPQRSTUVWXYZ'#车牌号中没有I和O，可自行百度\n",
    "  char2='1234567890'\n",
    "  len0=len(char0)-1\n",
    "  len1 = len(char1) - 1\n",
    "  len2 = len(char2) - 1\n",
    "  code = ''\n",
    "  for i in range(0,1):\n",
    "    index0 = random.randint(1,len0 )\n",
    "    index1 = random.randint(1, len1)\n",
    "    code += char0[index0]\n",
    "    code += char1[index1]\n",
    "    for i in range(1, 6):\n",
    "      index2 = random.randint(1, len2)\n",
    "      code += char2[index2]\n",
    "    #print(code,end=',')\n",
    "  return code  \n",
    "\n",
    "if __name__=='__main__':\n",
    "    list = []\n",
    "    for i in range(0,200):\n",
    "       a=(\n",
    "           #entity 1:\n",
    "           #enterprise\n",
    "           f.random_int(min=1001,max=1999),#index 15\n",
    "           f.random_int(min=10000001,max=19999999),\n",
    "           f.company_suffix(),#公司性质\n",
    "           f.company_prefix(),#公司名称\n",
    "           f.random_int(),\n",
    "           f.pystr(),\n",
    "           f.random.choice(['大','中','小']),\n",
    "           f.phone_number(),\n",
    "           f.pystr(),\n",
    "           f.date_time(),#ETL_DATE\n",
    "           f.name(),#LAST_MARKER\n",
    "           \"备注\",#MARKED_STATUS\n",
    "           '无',#MARKED_TAG\n",
    "           f.date_time(),\n",
    "           \n",
    "           #entity 2\n",
    "           #vehicle\n",
    "           f.random_int(min=70001,max=79999),#vehicle ID\n",
    "           f.random_int(min=70000001,max=79999999),#regist NO\n",
    "           f.name(),\n",
    "           f.random_element(),\n",
    "           f.ssn(),#驾驶员编号？\n",
    "           f.pystr(),\n",
    "           f.pystr(),\n",
    "           chepaihao(),\n",
    "           chepaihao(),#三者车牌号？\n",
    "           f.pystr(),\n",
    "           f.pystr(),#kind\n",
    "           f.date_time(),#ETL_DATE\n",
    "           f.name(),#LAST_MARKER\n",
    "           \"备注\",\n",
    "           '无',\n",
    "           f.date_time(),\n",
    "           \n",
    "           #relationships\n",
    "           f.random.choice(['ENTERPRISE_OF_REPAIRFACTORY']),\n",
    "           f.pystr(),\n",
    "           f.pystr(),\n",
    "          \n",
    "         )\n",
    "       list.append(a)\n",
    "    b=np.array(list)\n",
    "    print(b[0])\n",
    "    with open('enterprise to vehicle.csv', 'w', encoding='utf-8', newline='') as ff:\n",
    "        writer = csv.writer(ff)\n",
    "        writer.writerows(b)        "
   ]
  },
  {
   "cell_type": "code",
   "execution_count": null,
   "metadata": {
    "collapsed": true
   },
   "outputs": [],
   "source": []
  }
 ],
 "metadata": {
  "kernelspec": {
   "display_name": "Python 3",
   "language": "python",
   "name": "python3"
  },
  "language_info": {
   "codemirror_mode": {
    "name": "ipython",
    "version": 3
   },
   "file_extension": ".py",
   "mimetype": "text/x-python",
   "name": "python",
   "nbconvert_exporter": "python",
   "pygments_lexer": "ipython3",
   "version": "3.6.3"
  }
 },
 "nbformat": 4,
 "nbformat_minor": 2
}
