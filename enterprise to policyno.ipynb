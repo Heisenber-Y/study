{
 "cells": [
  {
   "cell_type": "code",
   "execution_count": 2,
   "metadata": {},
   "outputs": [
    {
     "name": "stdout",
     "output_type": "stream",
     "text": [
      "[1522 19187049 '信息有限公司' '易动力' 9483 'DcwrPIYunGWntupJpRLZ' '中' '15950179153'\n",
      " 'uQWwaknitaRcrdHXGtvO' datetime.datetime(2003, 7, 30, 18, 22, 37) '席宇'\n",
      " '备注' '无' datetime.datetime(1989, 3, 5, 15, 46, 7) 39897 34133154 5\n",
      " datetime.datetime(2013, 8, 9, 9, 44, 41)\n",
      " datetime.datetime(1972, 7, 20, 4, 11, 2)\n",
      " datetime.datetime(2019, 2, 23, 3, 42, 59) 4 '家财险' 'hlFncraqGaoptvUBjgpe'\n",
      " '个人' datetime.datetime(1981, 8, 10, 4, 13, 2) '何秀英' '备注' '无'\n",
      " datetime.datetime(1995, 9, 11, 7, 47, 1) 'EP_INSURED'\n",
      " 'mfDzitiUAXEykvYxeRIF' 'nLUAJthZFinWXRlcsXLj']\n"
     ]
    }
   ],
   "source": [
    "\n",
    "from faker import Faker\n",
    "f=Faker(locale='zh_CN')\n",
    "#enterprise to policyno\n",
    "import csv\n",
    "import numpy as np\n",
    "import random\n",
    "list = []\n",
    "for i in range(0,200):\n",
    "       a=(\n",
    "           #entity 1:\n",
    "           #enterprise\n",
    "           f.random_int(min=1001,max=1999),#index 15\n",
    "           f.random_int(min=10000001,max=19999999),\n",
    "           f.company_suffix(),#公司性质\n",
    "           f.company_prefix(),#公司名称\n",
    "           f.random_int(),\n",
    "           f.pystr(),\n",
    "           f.random.choice(['大','中','小']),\n",
    "           f.phone_number(),\n",
    "           f.pystr(),\n",
    "           f.date_time(),#ETL_DATE\n",
    "           f.name(),#LAST_MARKER\n",
    "           \"备注\",#MARKED_STATUS\n",
    "           '无',#MARKED_TAG\n",
    "           f.date_time(),\n",
    "           \n",
    "           #entity 2\n",
    "           #policy no\n",
    "           f.random_int(min=30001,max=39999),#policy NO ID\n",
    "           f.random_int(min=30000001,max=39999999),#policy NO\n",
    "           f.random_digit(),#0-9的整数\n",
    "           f.date_time(),#startdate\n",
    "           f.date_time(),\n",
    "           f.date_time(),\n",
    "           f.random_digit(),#0-9的整数\n",
    "           f.random.choice(['健康险','意外险','家财险','交强险','信用险','商业险']),\n",
    "           f.pystr(),#kind\n",
    "           f.random.choice(['团体','个人']),\n",
    "           f.date_time(),#ETL_DATE\n",
    "           f.name(),#LAST_MARKER\n",
    "           \"备注\",\n",
    "           '无',\n",
    "           f.date_time(),\n",
    "           \n",
    "           #relationships\n",
    "           f.random.choice(['EP_APPLI','EP_INSURED']),\n",
    "           f.pystr(),\n",
    "           f.pystr(),\n",
    "          \n",
    "         )\n",
    "       list.append(a)\n",
    "b=np.array(list)\n",
    "print(b[0])\n",
    "with open('enterprise to policyno.csv', 'w', encoding='utf-8', newline='') as ff:\n",
    "    writer = csv.writer(ff)\n",
    "    writer.writerows(b)        "
   ]
  },
  {
   "cell_type": "code",
   "execution_count": null,
   "metadata": {
    "collapsed": true
   },
   "outputs": [],
   "source": []
  }
 ],
 "metadata": {
  "kernelspec": {
   "display_name": "Python 3",
   "language": "python",
   "name": "python3"
  },
  "language_info": {
   "codemirror_mode": {
    "name": "ipython",
    "version": 3
   },
   "file_extension": ".py",
   "mimetype": "text/x-python",
   "name": "python",
   "nbconvert_exporter": "python",
   "pygments_lexer": "ipython3",
   "version": "3.6.3"
  }
 },
 "nbformat": 4,
 "nbformat_minor": 2
}
