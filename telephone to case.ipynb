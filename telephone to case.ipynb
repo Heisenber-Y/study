{
 "cells": [
  {
   "cell_type": "code",
   "execution_count": 1,
   "metadata": {},
   "outputs": [
    {
     "name": "stdout",
     "output_type": "stream",
     "text": [
      "[2541 21749666 datetime.datetime(2019, 1, 20, 15, 52, 25)\n",
      " datetime.datetime(2008, 1, 23, 14, 46, 47)\n",
      " datetime.datetime(1975, 4, 29, 15, 56, 28)\n",
      " datetime.datetime(1987, 5, 10, 14, 1, 53)\n",
      " datetime.datetime(1994, 9, 6, 3, 0, 47) 2744.97 '时空盒数字' 35158407 9\n",
      " '15240043453' '13341005155' datetime.datetime(1981, 7, 8, 21, 20, 19)\n",
      " '海南省淮安县兴山沈阳路L座 956066' '王兰英' '备注' '无'\n",
      " datetime.datetime(2007, 7, 16, 10, 34, 39) 89734 '18791580729' '孙淑华' '备注'\n",
      " '无' datetime.datetime(2018, 10, 21, 9, 7, 18) 'TELEPHONE_OF_CASE'\n",
      " 'pyGJlElcaBhrShnMPZBv' 'OVtidTfaMFyZIijEoXXI']\n"
     ]
    }
   ],
   "source": [
    "\n",
    "from faker import Faker\n",
    "f=Faker(locale='zh_CN')\n",
    "#telephone to case\n",
    "import csv\n",
    "import numpy as np\n",
    "import random\n",
    "list = []\n",
    "for i in range(0,200):\n",
    "       a=(\n",
    "           #entity 1:\n",
    "           #case\n",
    "           f.random_int(min=2001,max=2999),#case ID\n",
    "           f.random_int(min=20000001,max=29999999),\n",
    "           f.date_time(),\n",
    "           f.date_time(),\n",
    "           f.date_time(),\n",
    "           f.date_time(),\n",
    "           f.date_time(),\n",
    "           f.pyfloat(left_digits=4,right_digits=2 ,positive=True),\n",
    "           f.company_prefix(),\n",
    "           f.random_int(min=30000001,max=39999999),\n",
    "           f.random_digit(),#0-9的整数\n",
    "           f.phone_number(),\n",
    "           f.phone_number(),\n",
    "           f.date_time(),\n",
    "           f.address(),\n",
    "           f.name(),\n",
    "           \"备注\",\n",
    "           '无',\n",
    "           f.date_time(),\n",
    "           \n",
    "           #telephone\n",
    "           f.random_int(min=80001,max=89999),#telephone ID\n",
    "           f.phone_number(),\n",
    "           f.name(),#LAST_MARKER\n",
    "           \"备注\",\n",
    "           '无',\n",
    "           f.date_time(),\n",
    "                                 \n",
    "           #relationships\n",
    "           f.random.choice(['TELEPHONE_OF_CASE']),\n",
    "           f.pystr(),\n",
    "           f.pystr(),\n",
    "          \n",
    "         )\n",
    "       list.append(a)\n",
    "b=np.array(list)\n",
    "print(b[0])\n",
    "with open('telephone to case.csv', 'w', encoding='utf-8', newline='') as ff:\n",
    "    writer = csv.writer(ff)\n",
    "    writer.writerows(b)        "
   ]
  },
  {
   "cell_type": "code",
   "execution_count": null,
   "metadata": {
    "collapsed": true
   },
   "outputs": [],
   "source": []
  }
 ],
 "metadata": {
  "kernelspec": {
   "display_name": "Python 3",
   "language": "python",
   "name": "python3"
  },
  "language_info": {
   "codemirror_mode": {
    "name": "ipython",
    "version": 3
   },
   "file_extension": ".py",
   "mimetype": "text/x-python",
   "name": "python",
   "nbconvert_exporter": "python",
   "pygments_lexer": "ipython3",
   "version": "3.6.3"
  }
 },
 "nbformat": 4,
 "nbformat_minor": 2
}
