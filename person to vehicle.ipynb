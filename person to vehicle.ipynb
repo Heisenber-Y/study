{
 "cells": [
  {
   "cell_type": "code",
   "execution_count": 1,
   "metadata": {},
   "outputs": [
    {
     "name": "stdout",
     "output_type": "stream",
     "text": [
      "[54159 38425628 '李梅' '身份证' '511102193312312330' '15597587051'\n",
      " 'wxEpIusfVzMWvAKkqWzp' datetime.datetime(2004, 10, 8, 17, 10, 31) '王楠'\n",
      " '备注' '无' datetime.datetime(1998, 8, 8, 14, 41, 3) 78745 75785940 '贺雪' 'a'\n",
      " '420101196007097042' 'bJAJDurYOGkUZFrQhVkO' 'GTBtjJewzmNhvVQinkIM'\n",
      " '辽Z08567' '豫Z89390' 'hnqGfybvjhsCAAPiGqqM'\n",
      " datetime.datetime(2000, 10, 20, 2, 20, 29) '段雷' '备注' '无'\n",
      " datetime.datetime(2020, 6, 19, 12, 49, 59) 'PERSON_OF_VEHICLE_OWN'\n",
      " 'WvFccZBBFNATtPRCrCcz' 'qvIChitgvqdwrljNgcLh']\n"
     ]
    }
   ],
   "source": [
    "\n",
    "from faker import Faker\n",
    "f=Faker(locale='zh_CN')\n",
    "#person to VEHICLE\n",
    "import csv\n",
    "import numpy as np\n",
    "import random\n",
    "#生成车牌号\n",
    "def chepaihao():\n",
    "  char0='京津沪渝冀豫云辽黑湘皖鲁新苏浙赣鄂桂甘晋蒙陕吉闽赣粤青藏川宁琼'\n",
    "  char1='ABCDEFGHJKLMNPQRSTUVWXYZ'#车牌号中没有I和O，可自行百度\n",
    "  char2='1234567890'\n",
    "  len0=len(char0)-1\n",
    "  len1 = len(char1) - 1\n",
    "  len2 = len(char2) - 1\n",
    "  code = ''\n",
    "  for i in range(0,1):\n",
    "    index0 = random.randint(1,len0 )\n",
    "    index1 = random.randint(1, len1)\n",
    "    code += char0[index0]\n",
    "    code += char1[index1]\n",
    "    for i in range(1, 6):\n",
    "      index2 = random.randint(1, len2)\n",
    "      code += char2[index2]\n",
    "    #print(code,end=',')\n",
    "  return code  \n",
    "\n",
    "if __name__=='__main__':\n",
    "    list = []\n",
    "    for i in range(0,200):\n",
    "       a=(\n",
    "           #entity 1:\n",
    "           #person\n",
    "           f.random_int(min=50001,max=59999),#person ID\n",
    "           f.random_int(min=30000001,max=39999999),#policy NO\n",
    "           f.name(),\n",
    "           '身份证',\n",
    "           f.ssn(),\n",
    "           f.phone_number(),\n",
    "           f.pystr(),#kind\n",
    "           f.date_time(),#ETL_DATE\n",
    "           f.name(),#LAST_MARKER\n",
    "           \"备注\",\n",
    "           '无',\n",
    "           f.date_time(),\n",
    "           \n",
    "           #entity 2\n",
    "           #vehicle\n",
    "           f.random_int(min=70001,max=79999),#vehicle ID\n",
    "           f.random_int(min=70000001,max=79999999),#regist NO\n",
    "           f.name(),\n",
    "           f.random_element(),\n",
    "           f.ssn(),#驾驶员编号？\n",
    "           f.pystr(),\n",
    "           f.pystr(),\n",
    "           chepaihao(),\n",
    "           chepaihao(),#三者车牌号\n",
    "           f.pystr(),#kind\n",
    "           f.date_time(),#ETL_DATE\n",
    "           f.name(),#LAST_MARKER\n",
    "           \"备注\",\n",
    "           '无',\n",
    "           f.date_time(),\n",
    "           \n",
    "           #relationships\n",
    "           f.random.choice(['PERSON_OF_VEHICLE_OWN']),\n",
    "           f.pystr(),\n",
    "           f.pystr(),\n",
    "          \n",
    "         )\n",
    "       list.append(a)\n",
    "    b=np.array(list)\n",
    "    print(b[0])\n",
    "    with open('person to vehicle.csv', 'w', encoding='utf-8', newline='') as ff:\n",
    "        writer = csv.writer(ff)\n",
    "        writer.writerows(b)        "
   ]
  },
  {
   "cell_type": "code",
   "execution_count": null,
   "metadata": {
    "collapsed": true
   },
   "outputs": [],
   "source": []
  }
 ],
 "metadata": {
  "kernelspec": {
   "display_name": "Python 3",
   "language": "python",
   "name": "python3"
  },
  "language_info": {
   "codemirror_mode": {
    "name": "ipython",
    "version": 3
   },
   "file_extension": ".py",
   "mimetype": "text/x-python",
   "name": "python",
   "nbconvert_exporter": "python",
   "pygments_lexer": "ipython3",
   "version": "3.6.3"
  }
 },
 "nbformat": 4,
 "nbformat_minor": 2
}
