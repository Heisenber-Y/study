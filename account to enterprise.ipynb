{
 "cells": [
  {
   "cell_type": "code",
   "execution_count": 2,
   "metadata": {},
   "outputs": [
    {
     "name": "stdout",
     "output_type": "stream",
     "text": [
      "[6096 694763 4574.31 63214561 'oppo' 'VISA 19 digit' '朱欣' 4 '银行卡'\n",
      " datetime.datetime(1976, 6, 25, 19, 36) 'alxsZsrhjWMXKmsZyTfZ' '王畅' '备注'\n",
      " '无' datetime.datetime(1993, 8, 6, 15, 18, 47) 1281 11346468 '网络有限公司'\n",
      " '襄樊地球村' 1329 'YQELeMqBOjnibYqxIObl' '大' '18556628004'\n",
      " 'RVAvtDTaiCmUhedTXBFu' datetime.datetime(1978, 9, 23, 1, 56, 40) '巩飞' '备注'\n",
      " '无' datetime.datetime(2007, 12, 26, 14, 40, 35)\n",
      " 'ACCOUNT_OF_ENTERPRISE_OWN' 'oGjWKIpjrfREhSzBngHR' 'SHsjXRSBdWxoHhFnDovf']\n"
     ]
    }
   ],
   "source": [
    "\n",
    "from faker import Faker\n",
    "f=Faker(locale='zh_CN')\n",
    "#GCADJUSTMENTFEE\t赔付金额汇总表\n",
    "import csv\n",
    "import numpy as np\n",
    "import random\n",
    "list = []\n",
    "for i in range(0,200):\n",
    "       a=(\n",
    "           #entity 1\n",
    "           #account\n",
    "           f.random_int(min=6001,max=6999),#index 0\n",
    "           f.random_int(min=600001,max=699999),\n",
    "           f.pyfloat(left_digits=4,right_digits=2 ,positive=True),\n",
    "           f.random_int(min=60000001,max=69999999),\n",
    "           f.random.choice(['华为','iphone','小米','荣耀','锤子','三星','oppo','vivo','LG']),\n",
    "           f.credit_card_provider(),\n",
    "           f.name(),#index6\n",
    "           f.random_digit(),#0-9的整数\n",
    "           f.random.choice(['支付宝','微信','银行卡']),\n",
    "           f.date_time(),#ETL_DATE\n",
    "           f.pystr(),\n",
    "           f.name(),\n",
    "           \"备注\",\n",
    "           '无',\n",
    "           f.date_time(),\n",
    "           \n",
    "           #entity 2\n",
    "           #enterprise\n",
    "           f.random_int(min=1001,max=1999),#index 15\n",
    "           f.random_int(min=10000001,max=19999999),\n",
    "           f.company_suffix(),#公司性质\n",
    "           f.company_prefix(),#公司名称\n",
    "           f.random_int(),\n",
    "           f.pystr(),\n",
    "           f.random.choice(['大','中','小']),\n",
    "           f.phone_number(),\n",
    "           f.pystr(),\n",
    "           f.date_time(),#ETL_DATE\n",
    "           f.name(),#LAST_MARKER\n",
    "           \"备注\",#MARKED_STATUS\n",
    "           '无',#MARKED_TAG\n",
    "           f.date_time(),\n",
    "           \n",
    "           #relationships\n",
    "           'ACCOUNT_OF_ENTERPRISE_OWN',\n",
    "           f.pystr(),\n",
    "           f.pystr(),\n",
    "          \n",
    "         )\n",
    "       list.append(a)\n",
    "b=np.array(list)\n",
    "print(b[0])\n",
    "with open('account to enterprise.csv', 'w', encoding='utf-8', newline='') as ff:\n",
    "    writer = csv.writer(ff)\n",
    "    writer.writerows(b)        "
   ]
  },
  {
   "cell_type": "code",
   "execution_count": null,
   "metadata": {
    "collapsed": true
   },
   "outputs": [],
   "source": []
  }
 ],
 "metadata": {
  "kernelspec": {
   "display_name": "Python 3",
   "language": "python",
   "name": "python3"
  },
  "language_info": {
   "codemirror_mode": {
    "name": "ipython",
    "version": 3
   },
   "file_extension": ".py",
   "mimetype": "text/x-python",
   "name": "python",
   "nbconvert_exporter": "python",
   "pygments_lexer": "ipython3",
   "version": "3.6.3"
  }
 },
 "nbformat": 4,
 "nbformat_minor": 2
}
