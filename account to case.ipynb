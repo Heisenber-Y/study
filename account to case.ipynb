{
 "cells": [
  {
   "cell_type": "code",
   "execution_count": 5,
   "metadata": {},
   "outputs": [
    {
     "name": "stdout",
     "output_type": "stream",
     "text": [
      "[66639 623771 7058.17 62938715 '三星' 'Discover' '陈金凤' 5 '支付宝'\n",
      " datetime.datetime(2004, 8, 6, 5, 44, 34) 'MIheLNMIGRiHJwcswEkl' '杨秀梅' '备注'\n",
      " '无' datetime.datetime(2011, 3, 2, 11, 23, 6) 2547 20184489\n",
      " datetime.datetime(1994, 12, 8, 9, 54, 55)\n",
      " datetime.datetime(1975, 3, 16, 7, 44, 37)\n",
      " datetime.datetime(1973, 4, 19, 0, 40, 17)\n",
      " datetime.datetime(2003, 7, 28, 3, 10, 30)\n",
      " datetime.datetime(1976, 2, 26, 1, 40, 43) 2501.96 '富罳' 35713430 1\n",
      " '18248661469' '13947501256' datetime.datetime(2005, 3, 7, 16, 56, 32)\n",
      " '黑龙江省永安县萧山昆明街C座 953748' '彭红' '备注' '无'\n",
      " datetime.datetime(2009, 6, 17, 5, 41, 57) 'ACCOUNT_OF_POLICY_PAY'\n",
      " 'MKhbPCWUKsuzcUxumUVZ' 'LHfDFfYWfjUtMIeqpYVq']\n"
     ]
    }
   ],
   "source": [
    "\n",
    "from faker import Faker\n",
    "f=Faker(locale='zh_CN')\n",
    "#GCADJUSTMENTFEE\t赔付金额汇总表\n",
    "import csv\n",
    "import numpy as np\n",
    "import random\n",
    "list = []\n",
    "for i in range(0,200):\n",
    "       a=(\n",
    "           #entity 1:\n",
    "           f.random_int(min=60001,max=69999),#account ID\n",
    "           f.random_int(min=600001,max=699999),\n",
    "           f.pyfloat(left_digits=4,right_digits=2 ,positive=True),\n",
    "           f.random_int(min=60000001,max=69999999),\n",
    "           f.random.choice(['华为','iphone','小米','荣耀','锤子','三星','oppo','vivo','LG']),\n",
    "           f.credit_card_provider(),\n",
    "           f.name(),#index6\n",
    "           f.random_digit(),#0-9的整数\n",
    "           f.random.choice(['支付宝','微信','银行卡']),\n",
    "           f.date_time(),\n",
    "           f.pystr(),\n",
    "           f.name(),\n",
    "           \"备注\",\n",
    "           '无',\n",
    "           f.date_time(),\n",
    "           \n",
    "           #entity 2\n",
    "           #case\n",
    "           f.random_int(min=2001,max=2999),#index 15\n",
    "           f.random_int(min=20000001,max=29999999),\n",
    "           f.date_time(),\n",
    "           f.date_time(),\n",
    "           f.date_time(),\n",
    "           f.date_time(),\n",
    "           f.date_time(),\n",
    "           f.pyfloat(left_digits=4,right_digits=2 ,positive=True),\n",
    "           f.company_prefix(),\n",
    "           f.random_int(min=30000001,max=39999999),\n",
    "           f.random_digit(),#0-9的整数\n",
    "           f.phone_number(),\n",
    "           f.phone_number(),\n",
    "           f.date_time(),\n",
    "           f.address(),\n",
    "           f.name(),\n",
    "           \"备注\",\n",
    "           '无',\n",
    "           f.date_time(),\n",
    "           \n",
    "           #relationships\n",
    "           f.random.choice(['INSURED_ACCOUNTNO_CLAIMMAIN','THIRD_PARTY_ACCOUNTNO_CLAIMMAIN','ACCOUNT_OF_POLICY_PAY']),\n",
    "           f.pystr(),\n",
    "           f.pystr(),\n",
    "          \n",
    "         )\n",
    "       list.append(a)\n",
    "b=np.array(list)\n",
    "print(b[0])\n",
    "with open('account to case.csv', 'w', encoding='utf-8', newline='') as ff:\n",
    "    writer = csv.writer(ff)\n",
    "    writer.writerows(b)        "
   ]
  },
  {
   "cell_type": "code",
   "execution_count": null,
   "metadata": {
    "collapsed": true
   },
   "outputs": [],
   "source": []
  }
 ],
 "metadata": {
  "kernelspec": {
   "display_name": "Python 3",
   "language": "python",
   "name": "python3"
  },
  "language_info": {
   "codemirror_mode": {
    "name": "ipython",
    "version": 3
   },
   "file_extension": ".py",
   "mimetype": "text/x-python",
   "name": "python",
   "nbconvert_exporter": "python",
   "pygments_lexer": "ipython3",
   "version": "3.6.3"
  }
 },
 "nbformat": 4,
 "nbformat_minor": 2
}
