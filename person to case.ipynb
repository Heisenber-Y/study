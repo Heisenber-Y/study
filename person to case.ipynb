{
 "cells": [
  {
   "cell_type": "code",
   "execution_count": 1,
   "metadata": {},
   "outputs": [
    {
     "name": "stdout",
     "output_type": "stream",
     "text": [
      "[54295 30802404 '雷鹏' '身份证' '141024193503109304' '13925961479'\n",
      " 'tmviWbzPhFlJuzBykmPj' datetime.datetime(1987, 7, 2, 16, 12, 46) '吴桂芝'\n",
      " '备注' '无' datetime.datetime(1989, 4, 26, 17, 54, 56) 2593 26433894\n",
      " datetime.datetime(1996, 7, 12, 16, 0, 14)\n",
      " datetime.datetime(1975, 3, 25, 13, 48)\n",
      " datetime.datetime(1988, 4, 20, 16, 37, 48)\n",
      " datetime.datetime(1979, 8, 4, 7, 43, 8)\n",
      " datetime.datetime(2014, 3, 1, 5, 8, 15) 3811.16 '菊风公司' 36479138 1\n",
      " '18246269223' '15067340848' datetime.datetime(1999, 2, 11, 0, 14, 8)\n",
      " '内蒙古自治区太原市新城石路q座 429824' '李超' '备注' '无'\n",
      " datetime.datetime(1976, 1, 10, 0, 22, 21) 'INJURED_INSURED_OF_CASE'\n",
      " 'OCVCGFyXfXNxEHrTwTle' 'lMaWdojtEIbHNeKBROir']\n"
     ]
    }
   ],
   "source": [
    "\n",
    "from faker import Faker\n",
    "f=Faker(locale='zh_CN')\n",
    "#person to case\n",
    "import csv\n",
    "import numpy as np\n",
    "import random\n",
    "list = []\n",
    "for i in range(0,200):\n",
    "       a=(\n",
    "           #entity 1:\n",
    "            #person\n",
    "           f.random_int(min=50001,max=59999),#person ID\n",
    "           f.random_int(min=30000001,max=39999999),#policy NO\n",
    "           f.name(),\n",
    "           '身份证',\n",
    "           f.ssn(),\n",
    "           f.phone_number(),\n",
    "           f.pystr(),#kind\n",
    "           f.date_time(),#ETL_DATE\n",
    "           f.name(),#LAST_MARKER\n",
    "           \"备注\",\n",
    "           '无',\n",
    "           f.date_time(),\n",
    "           \n",
    "           #entity 2\n",
    "           #case\n",
    "           f.random_int(min=2001,max=2999),#index 15\n",
    "           f.random_int(min=20000001,max=29999999),\n",
    "           f.date_time(),\n",
    "           f.date_time(),\n",
    "           f.date_time(),\n",
    "           f.date_time(),\n",
    "           f.date_time(),\n",
    "           f.pyfloat(left_digits=4,right_digits=2 ,positive=True),\n",
    "           f.company_prefix(),\n",
    "           f.random_int(min=30000001,max=39999999),\n",
    "           f.random_digit(),#0-9的整数\n",
    "           f.phone_number(),\n",
    "           f.phone_number(),\n",
    "           f.date_time(),\n",
    "           f.address(),\n",
    "           f.name(),\n",
    "           \"备注\",\n",
    "           '无',\n",
    "           f.date_time(),\n",
    "           \n",
    "           #relationships\n",
    "           f.random.choice(['ACCIDENTDRIVER','THIRD_PARTY_ACCIDENTDRIVER','REPORTER_OF_CASE','INJURED_INSURED_OF_CASE','THEINJURED_OF_CASE','CHECHKER_OF_CASE','DES_OF_CASE']),\n",
    "           f.pystr(),\n",
    "           f.pystr(),\n",
    "          \n",
    "         )\n",
    "       list.append(a)\n",
    "b=np.array(list)\n",
    "print(b[0])\n",
    "with open('enterprise to case.csv', 'w', encoding='utf-8', newline='') as ff:\n",
    "    writer = csv.writer(ff)\n",
    "    writer.writerows(b)        "
   ]
  },
  {
   "cell_type": "code",
   "execution_count": null,
   "metadata": {
    "collapsed": true
   },
   "outputs": [],
   "source": []
  }
 ],
 "metadata": {
  "kernelspec": {
   "display_name": "Python 3",
   "language": "python",
   "name": "python3"
  },
  "language_info": {
   "codemirror_mode": {
    "name": "ipython",
    "version": 3
   },
   "file_extension": ".py",
   "mimetype": "text/x-python",
   "name": "python",
   "nbconvert_exporter": "python",
   "pygments_lexer": "ipython3",
   "version": "3.6.3"
  }
 },
 "nbformat": 4,
 "nbformat_minor": 2
}
