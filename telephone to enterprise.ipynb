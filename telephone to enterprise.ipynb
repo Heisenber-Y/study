{
 "cells": [
  {
   "cell_type": "code",
   "execution_count": 1,
   "metadata": {},
   "outputs": [
    {
     "name": "stdout",
     "output_type": "stream",
     "text": [
      "[1724 12735812 '信息有限公司' '太极' 1545 'dJXYksBsICILTtKPonKs' '小' '15177279409'\n",
      " 'DQDQFttsxbEWElvqofjP' datetime.datetime(1982, 4, 23, 8, 12, 50) '刘丽华'\n",
      " '备注' '无' datetime.datetime(1994, 3, 9, 9, 2, 54) 85007 '14562682257' '刘淑珍'\n",
      " '备注' '无' datetime.datetime(2003, 10, 27, 5, 52, 30)\n",
      " 'ENTERPRISE_REPAIRFACTORY_TEL' 'ymoUsAVaTiKultBctVoU'\n",
      " 'WbrbDfqrqimiIRLQbfas']\n"
     ]
    }
   ],
   "source": [
    "\n",
    "from faker import Faker\n",
    "f=Faker(locale='zh_CN')\n",
    "#telephone to enterprise\n",
    "import csv\n",
    "import numpy as np\n",
    "import random\n",
    "list = []\n",
    "for i in range(0,200):\n",
    "       a=(\n",
    "           #entity 1:\n",
    "           #enterprise\n",
    "           f.random_int(min=1001,max=1999),#index 15\n",
    "           f.random_int(min=10000001,max=19999999),\n",
    "           f.company_suffix(),#公司性质\n",
    "           f.company_prefix(),#公司名称\n",
    "           f.random_int(),\n",
    "           f.pystr(),\n",
    "           f.random.choice(['大','中','小']),\n",
    "           f.phone_number(),\n",
    "           f.pystr(),\n",
    "           f.date_time(),#ETL_DATE\n",
    "           f.name(),#LAST_MARKER\n",
    "           \"备注\",#MARKED_STATUS\n",
    "           '无',#MARKED_TAG\n",
    "           f.date_time(),\n",
    "           \n",
    "           #telephone\n",
    "           f.random_int(min=80001,max=89999),#telephone ID\n",
    "           f.phone_number(),\n",
    "           f.name(),#LAST_MARKER\n",
    "           \"备注\",\n",
    "           '无',\n",
    "           f.date_time(),\n",
    "                                 \n",
    "           #relationships\n",
    "           f.random.choice(['ENTERPRISE_APPLI_TEL','ENTERPRISE_APPLI_TEL','ENTERPRISE_REPAIRFACTORY_TEL','ENTERPRISE_INSTITUTION_TEL','ENTERPRISE_HOSPITAL_TEL']),\n",
    "           f.pystr(),\n",
    "           f.pystr(),\n",
    "          \n",
    "         )\n",
    "       list.append(a)\n",
    "b=np.array(list)\n",
    "print(b[0])\n",
    "with open('telephone to enterprise.csv', 'w', encoding='utf-8', newline='') as ff:\n",
    "    writer = csv.writer(ff)\n",
    "    writer.writerows(b)        "
   ]
  },
  {
   "cell_type": "code",
   "execution_count": null,
   "metadata": {
    "collapsed": true
   },
   "outputs": [],
   "source": []
  }
 ],
 "metadata": {
  "kernelspec": {
   "display_name": "Python 3",
   "language": "python",
   "name": "python3"
  },
  "language_info": {
   "codemirror_mode": {
    "name": "ipython",
    "version": 3
   },
   "file_extension": ".py",
   "mimetype": "text/x-python",
   "name": "python",
   "nbconvert_exporter": "python",
   "pygments_lexer": "ipython3",
   "version": "3.6.3"
  }
 },
 "nbformat": 4,
 "nbformat_minor": 2
}
