{
 "cells": [
  {
   "cell_type": "code",
   "execution_count": 1,
   "metadata": {},
   "outputs": [
    {
     "name": "stdout",
     "output_type": "stream",
     "text": [
      "[1561 11826701 '科技有限公司' '时空盒数字' 3124 'zRcGUKMPZzjdHTJznekN' '小'\n",
      " '15911225636' 'EftzlymsVbPOWzeftoSm'\n",
      " datetime.datetime(1977, 2, 7, 23, 45, 3) '何桂香' '备注' '无'\n",
      " datetime.datetime(1978, 4, 23, 21, 5, 36) 58255 36957055 '张晨' '身份证'\n",
      " '430223196505258422' '18616601641' 'bNyNNCveAwdlAuaXpjKL'\n",
      " datetime.datetime(1986, 4, 15, 7, 7, 4) '庞建平' '备注' '无'\n",
      " datetime.datetime(1971, 5, 17, 8, 38, 36) 'INJURED_INSURED'\n",
      " 'mrtQwpSENzkAqRcNCOcD' 'hxGjQCmPjhBwxNkgMgDo']\n"
     ]
    }
   ],
   "source": [
    "\n",
    "from faker import Faker\n",
    "f=Faker(locale='zh_CN')\n",
    "#enterprise to case\n",
    "import csv\n",
    "import numpy as np\n",
    "import random\n",
    "list = []\n",
    "for i in range(0,200):\n",
    "       a=(\n",
    "           #entity 1:\n",
    "           #enterprise\n",
    "           f.random_int(min=1001,max=1999),#index 15\n",
    "           f.random_int(min=10000001,max=19999999),\n",
    "           f.company_suffix(),#公司性质\n",
    "           f.company_prefix(),#公司名称\n",
    "           f.random_int(),\n",
    "           f.pystr(),\n",
    "           f.random.choice(['大','中','小']),\n",
    "           f.phone_number(),\n",
    "           f.pystr(),\n",
    "           f.date_time(),#ETL_DATE\n",
    "           f.name(),#LAST_MARKER\n",
    "           \"备注\",#MARKED_STATUS\n",
    "           '无',#MARKED_TAG\n",
    "           f.date_time(),\n",
    "           \n",
    "           #entity 2\n",
    "           #person\n",
    "           f.random_int(min=50001,max=59999),#person ID\n",
    "           f.random_int(min=30000001,max=39999999),#policy NO\n",
    "           f.name(),\n",
    "           '身份证',\n",
    "           f.ssn(),\n",
    "           f.phone_number(),\n",
    "           f.pystr(),#kind\n",
    "           f.date_time(),#ETL_DATE\n",
    "           f.name(),#LAST_MARKER\n",
    "           \"备注\",\n",
    "           '无',\n",
    "           f.date_time(),\n",
    "           \n",
    "           #relationships\n",
    "           f.random.choice(['INJURED_INSURED','THEINJURED']),\n",
    "           f.pystr(),\n",
    "           f.pystr(),\n",
    "          \n",
    "         )\n",
    "       list.append(a)\n",
    "b=np.array(list)\n",
    "print(b[0])\n",
    "with open('enterprise to person.csv', 'w', encoding='utf-8', newline='') as ff:\n",
    "    writer = csv.writer(ff)\n",
    "    writer.writerows(b)        "
   ]
  },
  {
   "cell_type": "code",
   "execution_count": null,
   "metadata": {
    "collapsed": true
   },
   "outputs": [],
   "source": []
  }
 ],
 "metadata": {
  "kernelspec": {
   "display_name": "Python 3",
   "language": "python",
   "name": "python3"
  },
  "language_info": {
   "codemirror_mode": {
    "name": "ipython",
    "version": 3
   },
   "file_extension": ".py",
   "mimetype": "text/x-python",
   "name": "python",
   "nbconvert_exporter": "python",
   "pygments_lexer": "ipython3",
   "version": "3.6.3"
  }
 },
 "nbformat": 4,
 "nbformat_minor": 2
}
