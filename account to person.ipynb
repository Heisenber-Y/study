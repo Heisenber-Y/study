{
 "cells": [
  {
   "cell_type": "code",
   "execution_count": 6,
   "metadata": {},
   "outputs": [
    {
     "name": "stdout",
     "output_type": "stream",
     "text": [
      "[6501 618183 7824.86 60934836 '小米' 'VISA 19 digit' '张燕' 1 '微信'\n",
      " datetime.datetime(1992, 8, 7, 7, 58, 27) 'yMptvcMRxkEvTwDltrWj' '陈玉英' '备注'\n",
      " '无' datetime.datetime(1990, 2, 12, 15, 44, 12) 51066 36464935 '罗晶' '身份证'\n",
      " '430725193901059317' '18890236331' 'kMKjpliSJTSWVmImgHXR'\n",
      " datetime.datetime(1975, 3, 2, 6, 45, 11) '刘丽娟' '备注' '无'\n",
      " datetime.datetime(1979, 11, 16, 4, 12, 35) 'ACCOUNT_OF_PERSON_OWN'\n",
      " 'ciOPBTPLSFAEzhXnHmio' 'FgxKyvcZHehbvhBfwySs']\n"
     ]
    }
   ],
   "source": [
    "\n",
    "from faker import Faker\n",
    "f=Faker(locale='zh_CN')\n",
    "#account to person\n",
    "import csv\n",
    "import numpy as np\n",
    "import random\n",
    "list = []\n",
    "for i in range(0,200):\n",
    "       a=(\n",
    "           #entity 1:\n",
    "           f.random_int(min=6001,max=6999),#account ID\n",
    "           f.random_int(min=600001,max=699999),\n",
    "           f.pyfloat(left_digits=4,right_digits=2 ,positive=True),\n",
    "           f.random_int(min=60000001,max=69999999),#account NO\n",
    "           f.random.choice(['华为','iphone','小米','荣耀','锤子','三星','oppo','vivo','LG']),\n",
    "           f.credit_card_provider(),\n",
    "           f.name(),#index6\n",
    "           f.random_digit(),#0-9的整数\n",
    "           f.random.choice(['支付宝','微信','银行卡']),\n",
    "           f.date_time(),#ETL_DATE\n",
    "           f.pystr(),#kind\n",
    "           f.name(),#LAST_MARKER\n",
    "           \"备注\",\n",
    "           '无',\n",
    "           f.date_time(),\n",
    "           \n",
    "           #entity 2\n",
    "           #person\n",
    "           f.random_int(min=50001,max=59999),#person ID\n",
    "           f.random_int(min=30000001,max=39999999),#policy NO\n",
    "           f.name(),\n",
    "           '身份证',\n",
    "           f.ssn(),\n",
    "           f.phone_number(),\n",
    "           f.pystr(),#kind\n",
    "           f.date_time(),#ETL_DATE\n",
    "           f.name(),#LAST_MARKER\n",
    "           \"备注\",\n",
    "           '无',\n",
    "           f.date_time(),\n",
    "           \n",
    "           #relationships\n",
    "           'ACCOUNT_OF_PERSON_OWN',\n",
    "           f.pystr(),\n",
    "           f.pystr(),\n",
    "         )\n",
    "       list.append(a)\n",
    "b=np.array(list)\n",
    "print(b[0])\n",
    "with open('account to person.csv', 'w', encoding='utf-8', newline='') as ff:\n",
    "    writer = csv.writer(ff)\n",
    "    writer.writerows(b)        "
   ]
  },
  {
   "cell_type": "code",
   "execution_count": null,
   "metadata": {
    "collapsed": true
   },
   "outputs": [],
   "source": []
  }
 ],
 "metadata": {
  "kernelspec": {
   "display_name": "Python 3",
   "language": "python",
   "name": "python3"
  },
  "language_info": {
   "codemirror_mode": {
    "name": "ipython",
    "version": 3
   },
   "file_extension": ".py",
   "mimetype": "text/x-python",
   "name": "python",
   "nbconvert_exporter": "python",
   "pygments_lexer": "ipython3",
   "version": "3.6.3"
  }
 },
 "nbformat": 4,
 "nbformat_minor": 2
}
