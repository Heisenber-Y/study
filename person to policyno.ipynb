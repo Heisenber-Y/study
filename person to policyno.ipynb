{
 "cells": [
  {
   "cell_type": "code",
   "execution_count": 1,
   "metadata": {},
   "outputs": [
    {
     "name": "stdout",
     "output_type": "stream",
     "text": [
      "[55408 32285316 '王桂芳' '身份证' '652801198508112468' '13695678675'\n",
      " 'poyEYsNcZhGqPODcEIGj' datetime.datetime(2006, 9, 1, 15, 26, 53) '张波' '备注'\n",
      " '无' datetime.datetime(1997, 4, 24, 3, 6, 50) 36694 39178769 3\n",
      " datetime.datetime(1977, 4, 13, 5, 54, 59)\n",
      " datetime.datetime(1995, 6, 30, 11, 5, 39)\n",
      " datetime.datetime(2018, 10, 23, 3, 24, 6) 8 '商业险' 'IWlaRfcsGFupSDkuUhqv'\n",
      " '个人' datetime.datetime(1983, 12, 14, 20, 40, 52) '李冬梅' '备注' '无'\n",
      " datetime.datetime(1994, 4, 15, 23, 8, 32) 'BUS_OF_POLICYNO'\n",
      " 'zWqVlqLNUgXVgTBxvLKz' 'gKVIKbRqqXCaobHWMLad']\n"
     ]
    }
   ],
   "source": [
    "\n",
    "from faker import Faker\n",
    "f=Faker(locale='zh_CN')\n",
    "#person to policyno\n",
    "import csv\n",
    "import numpy as np\n",
    "import random\n",
    "list = []\n",
    "for i in range(0,200):\n",
    "       a=(\n",
    "           #entity 1:\n",
    "            #person\n",
    "           f.random_int(min=50001,max=59999),#person ID\n",
    "           f.random_int(min=30000001,max=39999999),#policy NO\n",
    "           f.name(),\n",
    "           '身份证',\n",
    "           f.ssn(),\n",
    "           f.phone_number(),\n",
    "           f.pystr(),#kind\n",
    "           f.date_time(),#ETL_DATE\n",
    "           f.name(),#LAST_MARKER\n",
    "           \"备注\",\n",
    "           '无',\n",
    "           f.date_time(),\n",
    "           \n",
    "           #entity 2\n",
    "           #policy no\n",
    "           f.random_int(min=30001,max=39999),#policy NO ID\n",
    "           f.random_int(min=30000001,max=39999999),#policy NO\n",
    "           f.random_digit(),#0-9的整数\n",
    "           f.date_time(),#startdate\n",
    "           f.date_time(),\n",
    "           f.date_time(),\n",
    "           f.random_digit(),#0-9的整数\n",
    "           f.random.choice(['健康险','意外险','家财险','交强险','信用险','商业险']),\n",
    "           f.pystr(),#kind\n",
    "           f.random.choice(['团体','个人']),\n",
    "           f.date_time(),#ETL_DATE\n",
    "           f.name(),#LAST_MARKER\n",
    "           \"备注\",\n",
    "           '无',\n",
    "           f.date_time(),\n",
    "           \n",
    "           #relationships\n",
    "           f.random.choice(['APPLI_OF_POLICYNO','INSURE_OF_POLICYNO','BENE_OF_POLICYNO','BUS_OF_POLICYNO']),\n",
    "           f.pystr(),\n",
    "           f.pystr(),\n",
    "          \n",
    "         )\n",
    "       list.append(a)\n",
    "b=np.array(list)\n",
    "print(b[0])\n",
    "with open('enterprise to case.csv', 'w', encoding='utf-8', newline='') as ff:\n",
    "    writer = csv.writer(ff)\n",
    "    writer.writerows(b)        "
   ]
  },
  {
   "cell_type": "code",
   "execution_count": null,
   "metadata": {
    "collapsed": true
   },
   "outputs": [],
   "source": []
  }
 ],
 "metadata": {
  "kernelspec": {
   "display_name": "Python 3",
   "language": "python",
   "name": "python3"
  },
  "language_info": {
   "codemirror_mode": {
    "name": "ipython",
    "version": 3
   },
   "file_extension": ".py",
   "mimetype": "text/x-python",
   "name": "python",
   "nbconvert_exporter": "python",
   "pygments_lexer": "ipython3",
   "version": "3.6.3"
  }
 },
 "nbformat": 4,
 "nbformat_minor": 2
}
